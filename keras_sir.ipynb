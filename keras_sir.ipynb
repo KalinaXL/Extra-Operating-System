{
  "nbformat": 4,
  "nbformat_minor": 0,
  "metadata": {
    "colab": {
      "name": "Untitled0.ipynb",
      "provenance": [],
      "collapsed_sections": [],
      "toc_visible": true,
      "authorship_tag": "ABX9TyP9ANfiv9wHGqX8+Y5zbNhV",
      "include_colab_link": true
    },
    "kernelspec": {
      "name": "python3",
      "display_name": "Python 3"
    },
    "accelerator": "GPU"
  },
  "cells": [
    {
      "cell_type": "markdown",
      "metadata": {
        "id": "view-in-github",
        "colab_type": "text"
      },
      "source": [
        "<a href=\"https://colab.research.google.com/github/KalinaXL/Extra-Operating-System/blob/master/keras_sir.ipynb\" target=\"_parent\"><img src=\"https://colab.research.google.com/assets/colab-badge.svg\" alt=\"Open In Colab\"/></a>"
      ]
    },
    {
      "cell_type": "code",
      "metadata": {
        "id": "y2goAKQe-SGv",
        "colab_type": "code",
        "colab": {}
      },
      "source": [
        "import numpy as np\n",
        "import pandas as pd\n",
        "import tensorflow as tf\n",
        "from tensorflow.keras.models import Model\n",
        "from tensorflow.keras.layers import Input, Layer, Dense, Activation\n",
        "from tensorflow.keras.optimizers import Adam\n",
        "from sklearn.preprocessing import MinMaxScaler\n",
        "import tensorflow.keras.backend as K"
      ],
      "execution_count": 1,
      "outputs": []
    },
    {
      "cell_type": "code",
      "metadata": {
        "id": "-bFkDDCW-cDN",
        "colab_type": "code",
        "colab": {}
      },
      "source": [
        "class SIRLayer(Layer):\n",
        "    def __init__(self, S0, I0, R0, D0, name = 'sir'):\n",
        "        super().__init__(dynamic=True, name = name)\n",
        "        self.S0 = S0\n",
        "        self.I0 = I0\n",
        "        self.D0 = D0\n",
        "        self.R0 = R0\n",
        "        self.N = S0 + I0 + R0 + D0\n",
        "    def solve(self, alpha, size):\n",
        "        S, I, R, D = self.S0, self.I0, self.R0, self.D0\n",
        "        beta, gamma, mu = alpha\n",
        "        ls = []\n",
        "        max_i, max_d = 0, 0\n",
        "        for i in range(size):\n",
        "            S -= beta * I * S / self.N\n",
        "            I += beta * I * S / self.N - (mu + gamma) * I\n",
        "            R += gamma * I\n",
        "            D += mu * I\n",
        "            ls.append((I, D))\n",
        "            max_i = I if I > max_i else max_i\n",
        "            max_d = D if D > max_d else max_d\n",
        "        return tf.convert_to_tensor(ls)\n",
        "    def call(self, alpha):\n",
        "        results = []\n",
        "        for i, alpha_t in enumerate(alpha):\n",
        "            result = self.solve(alpha_t, alpha.shape[0])\n",
        "            results.append(result)\n",
        "        # print('len: ', len(results))\n",
        "        # print('len1: ', len(result))\n",
        "        # results = tf.concat(results, axis = 0)\n",
        "        return tf.convert_to_tensor(results)\n",
        "\n",
        "    def compute_output_shape(self, input_shape):\n",
        "        # print(input_shape)\n",
        "        return (input_shape[0], input_shape[0], 2)\n",
        "\n",
        "def define_model(S0 = 5100000, I0 = 10, R0 = 0, D0 = 0):\n",
        "    input = Input(shape = (2, ))\n",
        "    x = Dense(units = 8)(input)\n",
        "    x = Activation('sigmoid')(x)\n",
        "    x = Dense(units = 3)(x)\n",
        "    x = Activation('sigmoid', name = 'alpha')(x)\n",
        "    sir = SIRLayer(S0, I0, R0, D0)(x)\n",
        "    return Model(inputs = input, outputs = [x, sir])\n",
        "\n",
        "@tf.function\n",
        "def loss_sir(q_true, q_pred):\n",
        "    loss_1 = tf.math.reduce_mean(tf.math.square(tf.math.log(q_pred + 1e-3) - tf.math.log(q_true + 1e-3)))\n",
        "    max_I = tf.maximum(tf.reduce_max(q_pred[:, :, 0]), 1e-5)\n",
        "  \n",
        "    loss_2 = 100 * tf.math.reduce_mean(tf.square(q_pred - q_true))\n",
        "    return loss_1 + loss_2    \n",
        "\n",
        "@tf.function\n",
        "def loss_alpha(alpha_true, alpha_pred):\n",
        "    diff = tf.math.subtract(alpha_pred[:-1], alpha_pred[1:])\n",
        "    gamma = diff[:, 2] * 10\n",
        "    diff = tf.math.square(diff[:, : -1])\n",
        "    return 10 * tf.reduce_sum(diff) + 10 * tf.reduce_sum(tf.square(gamma))\n"
      ],
      "execution_count": 2,
      "outputs": []
    },
    {
      "cell_type": "code",
      "metadata": {
        "id": "eQJxcEuk-h1n",
        "colab_type": "code",
        "colab": {
          "base_uri": "https://localhost:8080/",
          "height": 357
        },
        "outputId": "6cd25c78-bcaf-40fd-cc98-38e96905c3d0"
      },
      "source": [
        "model = define_model()\n",
        "model.summary()"
      ],
      "execution_count": 3,
      "outputs": [
        {
          "output_type": "stream",
          "text": [
            "Model: \"model\"\n",
            "_________________________________________________________________\n",
            "Layer (type)                 Output Shape              Param #   \n",
            "=================================================================\n",
            "input_1 (InputLayer)         [(None, 2)]               0         \n",
            "_________________________________________________________________\n",
            "dense (Dense)                (None, 8)                 24        \n",
            "_________________________________________________________________\n",
            "activation (Activation)      (None, 8)                 0         \n",
            "_________________________________________________________________\n",
            "dense_1 (Dense)              (None, 3)                 27        \n",
            "_________________________________________________________________\n",
            "alpha (Activation)           (None, 3)                 0         \n",
            "_________________________________________________________________\n",
            "sir (SIRLayer)               (None, None, 2)           0         \n",
            "=================================================================\n",
            "Total params: 51\n",
            "Trainable params: 51\n",
            "Non-trainable params: 0\n",
            "_________________________________________________________________\n"
          ],
          "name": "stdout"
        }
      ]
    },
    {
      "cell_type": "code",
      "metadata": {
        "id": "Mj7Bokty-lRz",
        "colab_type": "code",
        "colab": {}
      },
      "source": [
        "data = pd.read_csv('data.csv').values[:, [1, 3]]# / 5100000\n",
        "\n",
        "losses = {\n",
        "    'alpha': loss_alpha,\n",
        "    'sir': loss_sir\n",
        "}"
      ],
      "execution_count": 4,
      "outputs": []
    },
    {
      "cell_type": "code",
      "metadata": {
        "id": "3bQWaR8w-n0I",
        "colab_type": "code",
        "colab": {
          "base_uri": "https://localhost:8080/",
          "height": 544
        },
        "outputId": "4f9c6d71-17d9-49b3-ce54-7f1eafb0a493"
      },
      "source": [
        "model.compile(optimizer = Adam(lr = 1e-5), loss = losses)\n",
        "H = model.fit(data, (np.random.randn(180, 3), data), batch_size= data.shape[0], epochs = 20, verbose = 1)"
      ],
      "execution_count": null,
      "outputs": [
        {
          "output_type": "stream",
          "text": [
            "Epoch 1/20\n",
            "1/1 [==============================] - 0s 1ms/step - loss: 117397411332096.0000 - alpha_loss: 80.4285 - sir_loss: 117397411332096.0000\n",
            "Epoch 2/20\n",
            "1/1 [==============================] - 0s 1ms/step - loss: 117397428109312.0000 - alpha_loss: 77.3179 - sir_loss: 117397428109312.0000\n",
            "Epoch 3/20\n",
            "1/1 [==============================] - 0s 1ms/step - loss: 117397386166272.0000 - alpha_loss: 88.9586 - sir_loss: 117397386166272.0000\n",
            "Epoch 4/20\n",
            "1/1 [==============================] - 0s 1ms/step - loss: 117397411332096.0000 - alpha_loss: 77.9626 - sir_loss: 117397411332096.0000\n",
            "Epoch 5/20\n",
            "1/1 [==============================] - 0s 1ms/step - loss: 117397386166272.0000 - alpha_loss: 84.3768 - sir_loss: 117397386166272.0000\n",
            "Epoch 6/20\n",
            "1/1 [==============================] - 0s 1ms/step - loss: 117397411332096.0000 - alpha_loss: 89.4635 - sir_loss: 117397411332096.0000\n",
            "Epoch 7/20\n",
            "1/1 [==============================] - 0s 1ms/step - loss: 117397411332096.0000 - alpha_loss: 77.2888 - sir_loss: 117397411332096.0000\n",
            "Epoch 8/20\n",
            "1/1 [==============================] - 0s 1ms/step - loss: 117397386166272.0000 - alpha_loss: 93.8010 - sir_loss: 117397386166272.0000\n",
            "Epoch 9/20\n",
            "1/1 [==============================] - 0s 1ms/step - loss: 117397386166272.0000 - alpha_loss: 81.7149 - sir_loss: 117397386166272.0000\n",
            "Epoch 10/20\n",
            "1/1 [==============================] - 0s 2ms/step - loss: 117397411332096.0000 - alpha_loss: 86.4252 - sir_loss: 117397411332096.0000\n",
            "Epoch 11/20\n",
            "1/1 [==============================] - 0s 2ms/step - loss: 117397386166272.0000 - alpha_loss: 90.3999 - sir_loss: 117397386166272.0000\n",
            "Epoch 12/20\n",
            "1/1 [==============================] - 0s 2ms/step - loss: 117397386166272.0000 - alpha_loss: 86.4680 - sir_loss: 117397386166272.0000\n",
            "Epoch 13/20\n",
            "1/1 [==============================] - 0s 1ms/step - loss: 117397386166272.0000 - alpha_loss: 92.8139 - sir_loss: 117397386166272.0000\n",
            "Epoch 14/20\n",
            "1/1 [==============================] - 0s 1ms/step - loss: 117397386166272.0000 - alpha_loss: 82.6224 - sir_loss: 117397386166272.0000\n",
            "Epoch 15/20\n",
            "1/1 [==============================] - 0s 1ms/step - loss: 117397411332096.0000 - alpha_loss: 86.2957 - sir_loss: 117397411332096.0000\n",
            "Epoch 16/20\n"
          ],
          "name": "stdout"
        }
      ]
    },
    {
      "cell_type": "code",
      "metadata": {
        "id": "moWLU3nk_NMF",
        "colab_type": "code",
        "colab": {}
      },
      "source": [
        ""
      ],
      "execution_count": null,
      "outputs": []
    }
  ]
}